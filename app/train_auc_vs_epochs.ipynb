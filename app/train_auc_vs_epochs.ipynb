{
 "cells": [
  {
   "cell_type": "code",
   "execution_count": 1,
   "id": "d46578fd-3905-4e67-a292-bc214d73bd02",
   "metadata": {},
   "outputs": [
    {
     "name": "stderr",
     "output_type": "stream",
     "text": [
      "2021-09-28 11:45:43.664859: W tensorflow/stream_executor/platform/default/dso_loader.cc:64] Could not load dynamic library 'libcudart.so.11.0'; dlerror: libcudart.so.11.0: cannot open shared object file: No such file or directory\n",
      "2021-09-28 11:45:43.664877: I tensorflow/stream_executor/cuda/cudart_stub.cc:29] Ignore above cudart dlerror if you do not have a GPU set up on your machine.\n"
     ]
    }
   ],
   "source": [
    "import pandas as pd\n",
    "from load_data import load_data\n",
    "from convolutional_NN import train_classifier\n",
    "from functional_square_loss import functional_square_loss\n",
    "from plotnine import ggplot, geom_line, aes, labs\n",
    "from functional_square_hinge_loss import functional_square_hinge_loss\n",
    "from naive_square_loss import naive_square_loss\n",
    "from naive_square_hinge_loss import naive_square_hinge_loss\n",
    "import time\n",
    "import numpy as np\n",
    "import matplotlib.pyplot as plt"
   ]
  },
  {
   "cell_type": "code",
   "execution_count": 6,
   "id": "c2928177-1f85-43ff-b32e-5afc1fa65a36",
   "metadata": {},
   "outputs": [],
   "source": [
    "SEED = 123\n",
    "imratio = 0.5\n",
    "lr = .5e-06\n",
    "num_epochs = 10\n",
    "batch_size = 500\n",
    "use_subset = False\n",
    "algo_list = [functional_square_loss, functional_square_hinge_loss]\n",
    "str_algo_list = ['functional_square_loss', 'functional_square_hinge_loss']\n",
    "train_auc_df = pd.DataFrame()"
   ]
  },
  {
   "cell_type": "code",
   "execution_count": 7,
   "id": "e73e37ce-590a-4e8d-93e3-bd4612e99b84",
   "metadata": {},
   "outputs": [
    {
     "name": "stdout",
     "output_type": "stream",
     "text": [
      "NUM_SAMPLES: [50000], POS:NEG: [25000 : 25000], POS_RATIO: 0.5000\n",
      "NUM_SAMPLES: [10000], POS:NEG: [5000 : 5000], POS_RATIO: 0.5000\n",
      "<function functional_square_loss at 0x7f5562335e50>\n",
      "Epoch: 0\n",
      "{'loss': 49377.20703125, 'train_auc': 0.6516188448, 'test_auc': 0.6409725199999999, 'epoch': 0, 'lr': 5e-07}\n",
      "Epoch: 1\n",
      "{'loss': 49321.87109375, 'train_auc': 0.7068367088, 'test_auc': 0.69263214, 'epoch': 1, 'lr': 5e-07}\n",
      "Epoch: 2\n",
      "{'loss': 46250.4765625, 'train_auc': 0.7356802608, 'test_auc': 0.6843941, 'epoch': 2, 'lr': 5e-07}\n",
      "Epoch: 3\n",
      "{'loss': 39181.57421875, 'train_auc': 0.7541657576, 'test_auc': 0.69579256, 'epoch': 3, 'lr': 5e-07}\n",
      "Epoch: 4\n",
      "{'loss': 40538.421875, 'train_auc': 0.7713274583999999, 'test_auc': 0.7559122400000001, 'epoch': 4, 'lr': 5e-07}\n",
      "Epoch: 5\n",
      "{'loss': 35756.203125, 'train_auc': 0.7840226751999999, 'test_auc': 0.74444734, 'epoch': 5, 'lr': 5e-07}\n",
      "Epoch: 6\n",
      "{'loss': 33539.19921875, 'train_auc': 0.7997779552, 'test_auc': 0.7549405000000001, 'epoch': 6, 'lr': 5e-07}\n",
      "Epoch: 7\n",
      "{'loss': 32960.45703125, 'train_auc': 0.8094342032000001, 'test_auc': 0.77460602, 'epoch': 7, 'lr': 5e-07}\n",
      "Epoch: 8\n",
      "{'loss': 32560.685546875, 'train_auc': 0.8169930752, 'test_auc': 0.7825556, 'epoch': 8, 'lr': 5e-07}\n",
      "Epoch: 9\n",
      "{'loss': 29620.369140625, 'train_auc': 0.8255238832, 'test_auc': 0.8020796000000001, 'epoch': 9, 'lr': 5e-07}\n",
      "<function functional_square_hinge_loss at 0x7f555819af70>\n",
      "Epoch: 0\n",
      "{'loss': 47907.7109375, 'train_auc': 0.6530818679999999, 'test_auc': 0.69135246, 'epoch': 0, 'lr': 5e-07}\n",
      "Epoch: 1\n",
      "{'loss': 43804.37109375, 'train_auc': 0.7063166528, 'test_auc': 0.69762436, 'epoch': 1, 'lr': 5e-07}\n",
      "Epoch: 2\n",
      "{'loss': 41205.53515625, 'train_auc': 0.7366655864, 'test_auc': 0.7111403000000001, 'epoch': 2, 'lr': 5e-07}\n",
      "Epoch: 3\n",
      "{'loss': 40913.90625, 'train_auc': 0.7565336456, 'test_auc': 0.6742024200000001, 'epoch': 3, 'lr': 5e-07}\n",
      "Epoch: 4\n",
      "{'loss': 37299.56640625, 'train_auc': 0.7766113544000001, 'test_auc': 0.75036316, 'epoch': 4, 'lr': 5e-07}\n",
      "Epoch: 5\n",
      "{'loss': 32663.123046875, 'train_auc': 0.7897798136, 'test_auc': 0.7383453200000001, 'epoch': 5, 'lr': 5e-07}\n",
      "Epoch: 6\n",
      "{'loss': 37617.5625, 'train_auc': 0.8004865752, 'test_auc': 0.72610102, 'epoch': 6, 'lr': 5e-07}\n",
      "Epoch: 7\n",
      "{'loss': 33660.91796875, 'train_auc': 0.8112796968, 'test_auc': 0.76602858, 'epoch': 7, 'lr': 5e-07}\n",
      "Epoch: 8\n",
      "{'loss': 30409.37890625, 'train_auc': 0.8223577744, 'test_auc': 0.7988093599999999, 'epoch': 8, 'lr': 5e-07}\n",
      "Epoch: 9\n",
      "{'loss': 25330.61328125, 'train_auc': 0.8257888552000001, 'test_auc': 0.79005288, 'epoch': 9, 'lr': 5e-07}\n"
     ]
    },
    {
     "data": {
      "text/html": [
       "<div>\n",
       "<style scoped>\n",
       "    .dataframe tbody tr th:only-of-type {\n",
       "        vertical-align: middle;\n",
       "    }\n",
       "\n",
       "    .dataframe tbody tr th {\n",
       "        vertical-align: top;\n",
       "    }\n",
       "\n",
       "    .dataframe thead th {\n",
       "        text-align: right;\n",
       "    }\n",
       "</style>\n",
       "<table border=\"1\" class=\"dataframe\">\n",
       "  <thead>\n",
       "    <tr style=\"text-align: right;\">\n",
       "      <th></th>\n",
       "      <th>functional_square_loss</th>\n",
       "      <th>functional_square_hinge_loss</th>\n",
       "    </tr>\n",
       "  </thead>\n",
       "  <tbody>\n",
       "    <tr>\n",
       "      <th>0</th>\n",
       "      <td>0.651619</td>\n",
       "      <td>0.653082</td>\n",
       "    </tr>\n",
       "    <tr>\n",
       "      <th>1</th>\n",
       "      <td>0.706837</td>\n",
       "      <td>0.706317</td>\n",
       "    </tr>\n",
       "    <tr>\n",
       "      <th>2</th>\n",
       "      <td>0.735680</td>\n",
       "      <td>0.736666</td>\n",
       "    </tr>\n",
       "    <tr>\n",
       "      <th>3</th>\n",
       "      <td>0.754166</td>\n",
       "      <td>0.756534</td>\n",
       "    </tr>\n",
       "    <tr>\n",
       "      <th>4</th>\n",
       "      <td>0.771327</td>\n",
       "      <td>0.776611</td>\n",
       "    </tr>\n",
       "    <tr>\n",
       "      <th>5</th>\n",
       "      <td>0.784023</td>\n",
       "      <td>0.789780</td>\n",
       "    </tr>\n",
       "    <tr>\n",
       "      <th>6</th>\n",
       "      <td>0.799778</td>\n",
       "      <td>0.800487</td>\n",
       "    </tr>\n",
       "    <tr>\n",
       "      <th>7</th>\n",
       "      <td>0.809434</td>\n",
       "      <td>0.811280</td>\n",
       "    </tr>\n",
       "    <tr>\n",
       "      <th>8</th>\n",
       "      <td>0.816993</td>\n",
       "      <td>0.822358</td>\n",
       "    </tr>\n",
       "    <tr>\n",
       "      <th>9</th>\n",
       "      <td>0.825524</td>\n",
       "      <td>0.825789</td>\n",
       "    </tr>\n",
       "  </tbody>\n",
       "</table>\n",
       "</div>"
      ],
      "text/plain": [
       "   functional_square_loss  functional_square_hinge_loss\n",
       "0                0.651619                      0.653082\n",
       "1                0.706837                      0.706317\n",
       "2                0.735680                      0.736666\n",
       "3                0.754166                      0.756534\n",
       "4                0.771327                      0.776611\n",
       "5                0.784023                      0.789780\n",
       "6                0.799778                      0.800487\n",
       "7                0.809434                      0.811280\n",
       "8                0.816993                      0.822358\n",
       "9                0.825524                      0.825789"
      ]
     },
     "execution_count": 7,
     "metadata": {},
     "output_type": "execute_result"
    }
   ],
   "source": [
    "trainloader, testloader = load_data(SEED, use_subset, batch_size, imratio)\n",
    "for x in range(2):\n",
    "    train_auc_list = train_classifier(trainloader, testloader, algo_list[x], num_epochs, lr)\n",
    "    train_auc_df[str_algo_list[x]] = train_auc_list\n",
    "train_auc_df"
   ]
  },
  {
   "cell_type": "code",
   "execution_count": 11,
   "id": "56c6b605-2f37-423e-9245-4ce92ede9350",
   "metadata": {},
   "outputs": [
    {
     "data": {
      "image/png": "[encoded data removed]",
      "text/plain": [
       "<Figure size 432x288 with 1 Axes>"
      ]
     },
     "metadata": {
      "needs_background": "light"
     },
     "output_type": "display_data"
    }
   ],
   "source": [
    "idx = np.array(train_auc_df.index)\n",
    "plt.plot(train_auc_df['functional_square_loss'],idx,'r',\n",
    "         train_auc_df['functional_square_hinge_loss'],idx,'b')\n",
    "plt.legend(train_auc_df.columns)\n",
    "plt.ylabel(\"Train AUC\")\n",
    "plt.xlabel(\"Number of Epochs\")\n",
    "plt.title(\"Fixed LR: 5e-7, Batch Size: 500\")\n",
    "plt.show()"
   ]
  }
 ],
 "metadata": {
  "kernelspec": {
   "display_name": "Python 3 (ipykernel)",
   "language": "python",
   "name": "python3"
  },
  "language_info": {
   "codemirror_mode": {
    "name": "ipython",
    "version": 3
   },
   "file_extension": ".py",
   "mimetype": "text/x-python",
   "name": "python",
   "nbconvert_exporter": "python",
   "pygments_lexer": "ipython3",
   "version": "3.9.5"
  }
 },
 "nbformat": 4,
 "nbformat_minor": 5
}
