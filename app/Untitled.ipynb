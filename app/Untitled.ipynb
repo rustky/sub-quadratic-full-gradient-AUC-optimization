{
 "cells": [
  {
   "cell_type": "code",
   "execution_count": 1,
   "id": "a966702c-e19c-495c-a9cc-569a43b9a954",
   "metadata": {},
   "outputs": [
    {
     "name": "stderr",
     "output_type": "stream",
     "text": [
      "2021-09-28 11:08:26.042856: W tensorflow/stream_executor/platform/default/dso_loader.cc:64] Could not load dynamic library 'libcudart.so.11.0'; dlerror: libcudart.so.11.0: cannot open shared object file: No such file or directory\n",
      "2021-09-28 11:08:26.042875: I tensorflow/stream_executor/cuda/cudart_stub.cc:29] Ignore above cudart dlerror if you do not have a GPU set up on your machine.\n"
     ]
    }
   ],
   "source": [
    "import pandas as pd\n",
    "from load_data import load_data\n",
    "from data_processed_time_limit import data_processed_time_limit\n",
    "from functional_square_loss import functional_square_loss\n",
    "from plotnine import ggplot, geom_line, aes, labs\n",
    "from functional_square_hinge_loss import functional_square_hinge_loss\n",
    "from naive_square_loss import naive_square_loss\n",
    "from naive_square_hinge_loss import naive_square_hinge_loss\n",
    "import time\n",
    "import numpy as np\n",
    "import matplotlib.pyplot as plt"
   ]
  },
  {
   "cell_type": "code",
   "execution_count": 2,
   "id": "e3245fc4-d3be-4f82-8b5f-359cf4252ea2",
   "metadata": {},
   "outputs": [],
   "source": [
    "SEED = 123\n",
    "imratio = 0.5\n",
    "lr = .5e-06\n",
    "num_epochs = 10\n",
    "batch_size = 20\n",
    "use_subset = False\n",
    "# time_limits = np.array(range(5,30,5))\n",
    "log_time = np.logspace(.01,1.5,5)\n",
    "algo_list = [functional_square_loss, functional_square_hinge_loss, naive_square_hinge_loss, naive_square_loss]\n",
    "str_algo_list = ['functional_square_loss', 'functional_square_hinge_loss', 'naive_square_hinge_loss', 'naive_square_loss']\n",
    "counts = pd.DataFrame(0, index=np.arange(3), columns= str_algo_list)"
   ]
  },
  {
   "cell_type": "code",
   "execution_count": 4,
   "id": "1271a698-ffa4-4e1d-8022-c7527c55f45a",
   "metadata": {},
   "outputs": [
    {
     "name": "stdout",
     "output_type": "stream",
     "text": [
      "NUM_SAMPLES: [50000], POS:NEG: [25000 : 25000], POS_RATIO: 0.5000\n",
      "NUM_SAMPLES: [10000], POS:NEG: [5000 : 5000], POS_RATIO: 0.5000\n",
      "0\n",
      "1.023292992280754\n",
      "2.4126815325916335\n",
      "5.688529308438414\n",
      "13.41219935405371\n",
      "31.622776601683793\n",
      "1\n",
      "1.023292992280754\n",
      "2.4126815325916335\n",
      "5.688529308438414\n",
      "13.41219935405371\n",
      "31.622776601683793\n",
      "2\n",
      "1.023292992280754\n",
      "2.4126815325916335\n",
      "5.688529308438414\n",
      "13.41219935405371\n",
      "31.622776601683793\n",
      "3\n",
      "1.023292992280754\n",
      "2.4126815325916335\n",
      "5.688529308438414\n",
      "13.41219935405371\n",
      "31.622776601683793\n"
     ]
    },
    {
     "data": {
      "text/html": [
       "<div>\n",
       "<style scoped>\n",
       "    .dataframe tbody tr th:only-of-type {\n",
       "        vertical-align: middle;\n",
       "    }\n",
       "\n",
       "    .dataframe tbody tr th {\n",
       "        vertical-align: top;\n",
       "    }\n",
       "\n",
       "    .dataframe thead th {\n",
       "        text-align: right;\n",
       "    }\n",
       "</style>\n",
       "<table border=\"1\" class=\"dataframe\">\n",
       "  <thead>\n",
       "    <tr style=\"text-align: right;\">\n",
       "      <th></th>\n",
       "      <th>functional_square_loss</th>\n",
       "      <th>functional_square_hinge_loss</th>\n",
       "      <th>naive_square_hinge_loss</th>\n",
       "      <th>naive_square_loss</th>\n",
       "    </tr>\n",
       "  </thead>\n",
       "  <tbody>\n",
       "    <tr>\n",
       "      <th>0</th>\n",
       "      <td>0.0</td>\n",
       "      <td>0.0</td>\n",
       "      <td>0.0</td>\n",
       "      <td>0.0</td>\n",
       "    </tr>\n",
       "    <tr>\n",
       "      <th>1</th>\n",
       "      <td>0.0</td>\n",
       "      <td>0.0</td>\n",
       "      <td>0.0</td>\n",
       "      <td>0.0</td>\n",
       "    </tr>\n",
       "    <tr>\n",
       "      <th>2</th>\n",
       "      <td>0.0</td>\n",
       "      <td>0.0</td>\n",
       "      <td>0.0</td>\n",
       "      <td>0.0</td>\n",
       "    </tr>\n",
       "    <tr>\n",
       "      <th>3</th>\n",
       "      <td>0.0</td>\n",
       "      <td>0.0</td>\n",
       "      <td>0.0</td>\n",
       "      <td>0.0</td>\n",
       "    </tr>\n",
       "    <tr>\n",
       "      <th>4</th>\n",
       "      <td>0.0</td>\n",
       "      <td>0.0</td>\n",
       "      <td>0.0</td>\n",
       "      <td>0.0</td>\n",
       "    </tr>\n",
       "  </tbody>\n",
       "</table>\n",
       "</div>"
      ],
      "text/plain": [
       "   functional_square_loss  functional_square_hinge_loss  \\\n",
       "0                     0.0                           0.0   \n",
       "1                     0.0                           0.0   \n",
       "2                     0.0                           0.0   \n",
       "3                     0.0                           0.0   \n",
       "4                     0.0                           0.0   \n",
       "\n",
       "   naive_square_hinge_loss  naive_square_loss  \n",
       "0                      0.0                0.0  \n",
       "1                      0.0                0.0  \n",
       "2                      0.0                0.0  \n",
       "3                      0.0                0.0  \n",
       "4                      0.0                0.0  "
      ]
     },
     "execution_count": 4,
     "metadata": {},
     "output_type": "execute_result"
    }
   ],
   "source": [
    "trainloader, testloader = load_data(SEED,use_subset, batch_size, imratio)\n",
    "for x in range(4):\n",
    "    print(x)\n",
    "    for i in range(5):\n",
    "        print(log_time[i])\n",
    "        count = data_processed_time_limit(trainloader, testloader, algo_list[x], num_epochs, lr, log_time[i])\n",
    "        counts.at[i, str_algo_list[x]] = count\n",
    "counts"
   ]
  },
  {
   "cell_type": "code",
   "execution_count": null,
   "id": "7d5c7fb8-f176-4974-b765-025fc215df9d",
   "metadata": {},
   "outputs": [],
   "source": [
    "idx = log_time\n",
    "plt.plot(counts['functional_square_loss'],idx,'r',\n",
    "         counts['functional_square_hinge_loss'],idx,'b',\n",
    "         counts['naive_square_hinge_loss'],idx,'g',\n",
    "         counts['naive_square_loss'],idx,'k')\n",
    "plt.legend(counts.columns)\n",
    "plt.ylabel('Time Limit (s)')\n",
    "plt.xlabel(\"Number of Data Points Processed\")\n",
    "plt.title(\"Time vs Amount of Data Processed\")\n",
    "plt.yscale(\"log\")\n",
    "# plt.show()\n",
    "plt.savefig('../figures/DataVsTimeLog.png',transparent=False)"
   ]
  }
 ],
 "metadata": {
  "kernelspec": {
   "display_name": "Python 3 (ipykernel)",
   "language": "python",
   "name": "python3"
  },
  "language_info": {
   "codemirror_mode": {
    "name": "ipython",
    "version": 3
   },
   "file_extension": ".py",
   "mimetype": "text/x-python",
   "name": "python",
   "nbconvert_exporter": "python",
   "pygments_lexer": "ipython3",
   "version": "3.9.5"
  }
 },
 "nbformat": 4,
 "nbformat_minor": 5
}
