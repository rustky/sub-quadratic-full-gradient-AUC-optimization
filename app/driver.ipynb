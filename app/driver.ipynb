{
 "metadata": {
  "language_info": {
   "codemirror_mode": {
    "name": "ipython",
    "version": 3
   },
   "file_extension": ".py",
   "mimetype": "text/x-python",
   "name": "python",
   "nbconvert_exporter": "python",
   "pygments_lexer": "ipython3",
   "version": "3.8.3"
  },
  "orig_nbformat": 4,
  "kernelspec": {
   "name": "python3",
   "display_name": "Python 3.8.3 64-bit ('base': conda)"
  },
  "interpreter": {
   "hash": "f9dd0902b225243344d54cce975d1f1ca949afdf5f5a29700c92d59c36ed0b5e"
  }
 },
 "nbformat": 4,
 "nbformat_minor": 2,
 "cells": [
  {
   "cell_type": "code",
   "execution_count": 1,
   "metadata": {},
   "outputs": [],
   "source": [
    "import numpy as np\n",
    "import torch\n",
    "size = 100\n",
    "labels = np.random.choice(a= [1,-1],size = size)\n",
    "predictions = np.random.randn(size)\n",
    "labels_tensor = torch.tensor(labels)\n",
    "predictions_tensor = torch.tensor(predictions)"
   ]
  },
  {
   "cell_type": "code",
   "execution_count": 2,
   "metadata": {},
   "outputs": [
    {
     "output_type": "stream",
     "name": "stdout",
     "text": [
      "All Pairs Square Loss:tensor(8071.6284, dtype=torch.float64)\nSquare Loss: tensor(8071.6284, dtype=torch.float64)\n"
     ]
    }
   ],
   "source": [
    "from all_pairs_square_loss import all_pairs_square_loss\n",
    "from square_loss import square_loss\n",
    "print(\"All Pairs Square Loss:\" + str(all_pairs_square_loss(predictions_tensor,labels_tensor,1)))\n",
    "print(\"Square Loss: \" + str(square_loss(predictions_tensor,labels_tensor,1)))"
   ]
  },
  {
   "cell_type": "code",
   "execution_count": 3,
   "metadata": {},
   "outputs": [
    {
     "output_type": "stream",
     "name": "stdout",
     "text": [
      "All Pairs Hinge: tensor(7514.9068, dtype=torch.float64)\nSquare Hinge Loss: tensor(7514.9068, dtype=torch.float64)\n"
     ]
    }
   ],
   "source": [
    "from all_pairs_squared_hinge_loss import all_pairs_squared_hinge_loss\n",
    "from squared_hinge_loss import squared_hinge_loss\n",
    "print(\"All Pairs Hinge: \" + str(all_pairs_squared_hinge_loss(predictions_tensor,labels_tensor,1)))\n",
    "print(\"Square Hinge Loss: \" + str(squared_hinge_loss(predictions_tensor,labels_tensor,1)))"
   ]
  },
  {
   "cell_type": "code",
   "execution_count": 1,
   "metadata": {},
   "outputs": [
    {
     "output_type": "stream",
     "name": "stdout",
     "text": [
      "Files already downloaded and verified\n",
      "Files already downloaded and verified\n"
     ]
    }
   ],
   "source": [
    "from load_data import load_data\n",
    "trainloader, trainset = load_data()"
   ]
  },
  {
   "cell_type": "code",
   "execution_count": 3,
   "metadata": {},
   "outputs": [
    {
     "output_type": "stream",
     "name": "stderr",
     "text": [
      "C:\\Users\\kyler\\anaconda3\\lib\\site-packages\\torch\\nn\\functional.py:718: UserWarning: Named tensors and all their associated APIs are an experimental feature and subject to change. Please do not use them for anything important until they are released as stable. (Triggered internally at  ..\\c10/core/TensorImpl.h:1156.)\n",
      "  return torch.max_pool2d(input, kernel_size, stride, padding, dilation, ceil_mode)\n",
      "[1,  2000] loss: 2.178\n",
      "[1,  4000] loss: 1.831\n",
      "[1,  6000] loss: 1.666\n",
      "[1,  8000] loss: 1.566\n",
      "[1, 10000] loss: 1.498\n",
      "[1, 12000] loss: 1.458\n",
      "[2,  2000] loss: 1.377\n",
      "[2,  4000] loss: 1.341\n",
      "[2,  6000] loss: 1.340\n",
      "[2,  8000] loss: 1.272\n",
      "[2, 10000] loss: 1.282\n",
      "[2, 12000] loss: 1.262\n",
      "Finished Training\n"
     ]
    }
   ],
   "source": [
    "from convolutional_NN import train_classifier\n",
    "train_classifier(trainloader,trainset)"
   ]
  },
  {
   "cell_type": "code",
   "execution_count": null,
   "metadata": {},
   "outputs": [],
   "source": [
    "from convolutional_NN import test_classifier\n",
    "test_classifier(testloader,testset)"
   ]
  }
 ]
}