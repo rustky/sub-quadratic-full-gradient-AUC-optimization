{
 "cells": [
  {
   "cell_type": "code",
   "execution_count": null,
   "metadata": {},
   "outputs": [],
   "source": [
    "import pandas as pd\n",
    "from load_data import load_data\n",
    "from convolutional_NN import train_classifier\n",
    "from functional_square_loss import functional_square_loss\n",
    "from plotnine import ggplot, geom_line, aes, labs\n",
    "from functional_square_hinge_loss import functional_square_hinge_loss\n",
    "from naive_square_loss import naive_square_loss\n",
    "from naive_square_hinge_loss import naive_square_hinge_loss\n",
    "import time\n",
    "import numpy as np\n",
    "\n",
    "SEED = 123\n",
    "imratio = 0.5\n",
    "lr = .5e-06\n",
    "num_epochs = 10\n",
    "algo_list = [functional_square_loss, functional_square_hinge_loss, naive_square_hinge_loss, naive_square_loss]\n",
    "str_algo_list = ['functional_square_loss', 'functional_square_hinge_loss', 'naive_square_hinge_loss', 'naive_square_loss']\n",
    "times = pd.DataFrame(0, index=np.arange(num_epochs), columns= str_algo_list)\n",
    "trainloader, testloader = load_data(SEED, imratio)\n",
    "for x in range(4):\n",
    "    print(x)\n",
    "    for i in range(num_epochs):\n",
    "        start = time.time()\n",
    "        train_results = train_classifier(trainloader, testloader, algo_list[x], num_epochs, lr)\n",
    "        end = time.time()\n",
    "        times.at[i, str_algo_list[x]] = end - start\n",
    "times"
   ]
  },
  {
   "cell_type": "code",
   "execution_count": null,
   "metadata": {
    "tags": []
   },
   "outputs": [],
   "source": [
    "import numpy as np\n",
    "idx = np.arange(0,25)\n",
    "full_dict = dict(zip(idx,train_results))\n",
    "train_results_df = pd.DataFrame(full_dict[0], index=[0])\n",
    "for num_epochs in range(1,25):\n",
    "    temp = pd.DataFrame(full_dict[num_epochs], index=[0])\n",
    "    combine = [train_results_df, temp]\n",
    "    train_results_df = pd.concat(combine)\n",
    "train_results_df"
   ]
  },
  {
   "cell_type": "code",
   "execution_count": null,
   "metadata": {},
   "outputs": [],
   "source": [
    "import pandas as pd\n",
    "times = pd.read_csv('/home/kyle/Documents/sub-quadratic-full-gradient-AUC-optimization/times.csv')\n",
    "times_augmented = np.array(times.index)\n"
   ]
  },
  {
   "cell_type": "code",
   "execution_count": null,
   "metadata": {},
   "outputs": [],
   "source": [
    "import matplotlib.pyplot as plt\n",
    "idx = np.array(times.index)\n",
    "plt.plot(idx,times['functional_square_loss']*idx,'r',\n",
    "         idx,times['functional_square_hinge_loss']*idx,'b',\n",
    "         idx,times['naive_square_hinge_loss']*idx,'g',\n",
    "         idx,times['naive_square_loss']*idx,'k')\n",
    "plt.legend(times.columns)\n",
    "plt.ylabel('Time (s)')\n",
    "plt.xlabel(\"Number of Epochs\")\n",
    "plt.title(\"Algorithm Timings vs Number of Epochs\")\n",
    "# plt.show()\n",
    "plt.savefig('../figures/TimeVsEpochs.png',transparent=False)"
   ]
  },
  {
   "cell_type": "code",
   "execution_count": null,
   "metadata": {},
   "outputs": [],
   "source": [
    "df = pd.DataFrame(columns=['functional_square_loss', 'functional_square_hinge_loss', 'naive_square_hinge_loss', 'naive_square_loss'])\n",
    "df.append({'functional_square_loss': 10}, ignore_index=True)"
   ]
  },
  {
   "cell_type": "code",
   "execution_count": 1,
   "metadata": {},
   "outputs": [
    {
     "name": "stderr",
     "output_type": "stream",
     "text": [
      "2021-09-27 10:52:47.123290: W tensorflow/stream_executor/platform/default/dso_loader.cc:64] Could not load dynamic library 'libcudart.so.11.0'; dlerror: libcudart.so.11.0: cannot open shared object file: No such file or directory\n",
      "2021-09-27 10:52:47.123314: I tensorflow/stream_executor/cuda/cudart_stub.cc:29] Ignore above cudart dlerror if you do not have a GPU set up on your machine.\n"
     ]
    }
   ],
   "source": [
    "import pandas as pd\n",
    "from load_data import load_data\n",
    "from convolutional_NN import train_classifier\n",
    "from functional_square_loss import functional_square_loss\n",
    "from plotnine import ggplot, geom_line, aes, labs\n",
    "from functional_square_hinge_loss import functional_square_hinge_loss\n",
    "from naive_square_loss import naive_square_loss\n",
    "from naive_square_hinge_loss import naive_square_hinge_loss\n",
    "import time\n",
    "import numpy as np"
   ]
  },
  {
   "cell_type": "code",
   "execution_count": 2,
   "metadata": {},
   "outputs": [
    {
     "name": "stdout",
     "output_type": "stream",
     "text": [
      "NUM_SAMPLES: [50000], POS:NEG: [25000 : 25000], POS_RATIO: 0.5000\n",
      "NUM_SAMPLES: [10000], POS:NEG: [5000 : 5000], POS_RATIO: 0.5000\n",
      "0\n",
      "1.023292992280754\n",
      "2.4126815325916335\n",
      "5.688529308438414\n",
      "13.41219935405371\n",
      "31.622776601683793\n",
      "1\n",
      "1.023292992280754\n",
      "2.4126815325916335\n",
      "5.688529308438414\n",
      "13.41219935405371\n",
      "31.622776601683793\n",
      "2\n",
      "1.023292992280754\n",
      "2.4126815325916335\n",
      "5.688529308438414\n",
      "13.41219935405371\n",
      "31.622776601683793\n",
      "3\n",
      "1.023292992280754\n",
      "2.4126815325916335\n",
      "5.688529308438414\n",
      "13.41219935405371\n",
      "31.622776601683793\n"
     ]
    },
    {
     "data": {
      "text/html": [
       "<div>\n",
       "<style scoped>\n",
       "    .dataframe tbody tr th:only-of-type {\n",
       "        vertical-align: middle;\n",
       "    }\n",
       "\n",
       "    .dataframe tbody tr th {\n",
       "        vertical-align: top;\n",
       "    }\n",
       "\n",
       "    .dataframe thead th {\n",
       "        text-align: right;\n",
       "    }\n",
       "</style>\n",
       "<table border=\"1\" class=\"dataframe\">\n",
       "  <thead>\n",
       "    <tr style=\"text-align: right;\">\n",
       "      <th></th>\n",
       "      <th>functional_square_loss</th>\n",
       "      <th>functional_square_hinge_loss</th>\n",
       "      <th>naive_square_hinge_loss</th>\n",
       "      <th>naive_square_loss</th>\n",
       "    </tr>\n",
       "  </thead>\n",
       "  <tbody>\n",
       "    <tr>\n",
       "      <th>0</th>\n",
       "      <td>1160.0</td>\n",
       "      <td>340.0</td>\n",
       "      <td>260.0</td>\n",
       "      <td>240.0</td>\n",
       "    </tr>\n",
       "    <tr>\n",
       "      <th>1</th>\n",
       "      <td>1700.0</td>\n",
       "      <td>500.0</td>\n",
       "      <td>380.0</td>\n",
       "      <td>360.0</td>\n",
       "    </tr>\n",
       "    <tr>\n",
       "      <th>2</th>\n",
       "      <td>3540.0</td>\n",
       "      <td>1040.0</td>\n",
       "      <td>760.0</td>\n",
       "      <td>740.0</td>\n",
       "    </tr>\n",
       "    <tr>\n",
       "      <th>3</th>\n",
       "      <td>8360.0</td>\n",
       "      <td>2420.0</td>\n",
       "      <td>1800.0</td>\n",
       "      <td>1720.0</td>\n",
       "    </tr>\n",
       "    <tr>\n",
       "      <th>4</th>\n",
       "      <td>18680.0</td>\n",
       "      <td>5380.0</td>\n",
       "      <td>3960.0</td>\n",
       "      <td>3460.0</td>\n",
       "    </tr>\n",
       "  </tbody>\n",
       "</table>\n",
       "</div>"
      ],
      "text/plain": [
       "   functional_square_loss  functional_square_hinge_loss  \\\n",
       "0                  1160.0                         340.0   \n",
       "1                  1700.0                         500.0   \n",
       "2                  3540.0                        1040.0   \n",
       "3                  8360.0                        2420.0   \n",
       "4                 18680.0                        5380.0   \n",
       "\n",
       "   naive_square_hinge_loss  naive_square_loss  \n",
       "0                    260.0              240.0  \n",
       "1                    380.0              360.0  \n",
       "2                    760.0              740.0  \n",
       "3                   1800.0             1720.0  \n",
       "4                   3960.0             3460.0  "
      ]
     },
     "execution_count": 2,
     "metadata": {},
     "output_type": "execute_result"
    }
   ],
   "source": [
    "SEED = 123\n",
    "imratio = 0.5\n",
    "lr = .5e-06\n",
    "num_epochs = 2\n",
    "# time_limits = np.array(range(5,30,5))\n",
    "log_time = np.logspace(.01,1.5,5)\n",
    "algo_list = [functional_square_loss, functional_square_hinge_loss, naive_square_hinge_loss, naive_square_loss]\n",
    "str_algo_list = ['functional_square_loss', 'functional_square_hinge_loss', 'naive_square_hinge_loss', 'naive_square_loss']\n",
    "counts = pd.DataFrame(0, index=np.arange(3), columns= str_algo_list)\n",
    "trainloader, testloader = load_data(SEED, imratio)\n",
    "for x in range(4):\n",
    "    print(x)\n",
    "    for i in range(5):\n",
    "        print(log_time[i])\n",
    "        count = train_classifier(trainloader, testloader, algo_list[x], num_epochs, lr, log_time[i])\n",
    "        counts.at[i, str_algo_list[x]] = count\n",
    "counts"
   ]
  },
  {
   "cell_type": "code",
   "execution_count": 6,
   "metadata": {},
   "outputs": [
    {
     "data": {
      "image/png": "[encoded data removed]",
      "text/plain": [
       "<Figure size 432x288 with 1 Axes>"
      ]
     },
     "metadata": {
      "needs_background": "light"
     },
     "output_type": "display_data"
    }
   ],
   "source": [
    "import matplotlib.pyplot as plt\n",
    "idx = log_time\n",
    "plt.plot(counts['functional_square_loss'],idx,'r',\n",
    "         counts['functional_square_hinge_loss'],idx,'b',\n",
    "         counts['naive_square_hinge_loss'],idx,'g',\n",
    "         counts['naive_square_loss'],idx,'k')\n",
    "plt.legend(counts.columns)\n",
    "plt.ylabel('Time Limit (s)')\n",
    "plt.xlabel(\"Number of Data Points Processed\")\n",
    "plt.title(\"Time vs Amount of Data Processed\")\n",
    "plt.yscale(\"log\")\n",
    "# plt.show()\n",
    "plt.savefig('../figures/DataVsTimeLog.png',transparent=False)"
   ]
  }
 ],
 "metadata": {
  "interpreter": {
   "hash": "f9dd0902b225243344d54cce975d1f1ca949afdf5f5a29700c92d59c36ed0b5e"
  },
  "kernelspec": {
   "display_name": "Python 3 (ipykernel)",
   "language": "python",
   "name": "python3"
  },
  "language_info": {
   "codemirror_mode": {
    "name": "ipython",
    "version": 3
   },
   "file_extension": ".py",
   "mimetype": "text/x-python",
   "name": "python",
   "nbconvert_exporter": "python",
   "pygments_lexer": "ipython3",
   "version": "3.9.5"
  }
 },
 "nbformat": 4,
 "nbformat_minor": 4
}
