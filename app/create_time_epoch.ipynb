{
 "cells": [
  {
   "cell_type": "code",
   "execution_count": 1,
   "id": "631a7f9b-7cbd-43b5-b01e-fa5fcb01c1ba",
   "metadata": {},
   "outputs": [
    {
     "name": "stderr",
     "output_type": "stream",
     "text": [
      "2021-09-28 10:37:34.702220: W tensorflow/stream_executor/platform/default/dso_loader.cc:64] Could not load dynamic library 'libcudart.so.11.0'; dlerror: libcudart.so.11.0: cannot open shared object file: No such file or directory\n",
      "2021-09-28 10:37:34.702249: I tensorflow/stream_executor/cuda/cudart_stub.cc:29] Ignore above cudart dlerror if you do not have a GPU set up on your machine.\n"
     ]
    }
   ],
   "source": [
    "import pandas as pd\n",
    "from load_data import load_data\n",
    "from time_per_epoch import time_per_epoch\n",
    "from functional_square_loss import functional_square_loss\n",
    "from plotnine import ggplot, geom_line, aes, labs\n",
    "from functional_square_hinge_loss import functional_square_hinge_loss\n",
    "from naive_square_loss import naive_square_loss\n",
    "from naive_square_hinge_loss import naive_square_hinge_loss\n",
    "import time\n",
    "import numpy as np"
   ]
  },
  {
   "cell_type": "code",
   "execution_count": 2,
   "id": "550a73fe-bd14-47cf-9c2f-cd3b9f26a987",
   "metadata": {},
   "outputs": [],
   "source": [
    "SEED = 123\n",
    "imratio = 0.5\n",
    "lr = .5e-06\n",
    "num_epochs = 2\n",
    "batch_size = 500\n",
    "use_subset = False\n",
    "algo_list = [functional_square_loss, functional_square_hinge_loss, naive_square_hinge_loss, naive_square_loss]\n",
    "str_algo_list = ['functional_square_loss', 'functional_square_hinge_loss', 'naive_square_hinge_loss', 'naive_square_loss']\n",
    "times = pd.DataFrame(0, index=np.arange(num_epochs), columns= str_algo_list)"
   ]
  },
  {
   "cell_type": "code",
   "execution_count": null,
   "id": "49551c8c-03b7-4266-951e-7dec618720b2",
   "metadata": {},
   "outputs": [
    {
     "name": "stdout",
     "output_type": "stream",
     "text": [
      "NUM_SAMPLES: [50000], POS:NEG: [25000 : 25000], POS_RATIO: 0.5000\n",
      "NUM_SAMPLES: [10000], POS:NEG: [5000 : 5000], POS_RATIO: 0.5000\n",
      "0\n",
      "1\n",
      "2\n"
     ]
    }
   ],
   "source": [
    "trainloader, testloader = load_data(SEED,use_subset, batch_size,imratio)\n",
    "for x in range(4):\n",
    "    print(x)\n",
    "    for i in range(num_epochs):\n",
    "        start = time.time()\n",
    "        train_results = time_per_epoch(trainloader, testloader, algo_list[x], num_epochs, lr)\n",
    "        end = time.time()\n",
    "        times.at[i, str_algo_list[x]] = end - start\n",
    "times"
   ]
  },
  {
   "cell_type": "code",
   "execution_count": null,
   "id": "29efc9c1-9f14-4600-b734-71270ea5cd84",
   "metadata": {},
   "outputs": [],
   "source": [
    "times.to_csv(../data/'TimePerEpoch.csv',index=False)"
   ]
  },
  {
   "cell_type": "code",
   "execution_count": null,
   "id": "14755033-071c-43e1-ba64-44de0db7a9dd",
   "metadata": {},
   "outputs": [],
   "source": [
    "import matplotlib.pyplot as plt\n",
    "idx = np.array(times.index)\n",
    "plt.plot(idx,times['functional_square_loss']*idx,'r',\n",
    "         idx,times['functional_square_hinge_loss']*idx,'b',\n",
    "         idx,times['naive_square_hinge_loss']*idx,'g',\n",
    "         idx,times['naive_square_loss']*idx,'k')\n",
    "plt.legend(times.columns)\n",
    "plt.ylabel('Time (s)')\n",
    "plt.xlabel(\"Number of Epochs\")\n",
    "plt.title(\"Algorithm Timings vs Number of Epochs\")\n",
    "plt.show()\n",
    "# plt.savefig('../figures/TimeVsEpochs.png',transparent=False)"
   ]
  }
 ],
 "metadata": {
  "kernelspec": {
   "display_name": "Python 3 (ipykernel)",
   "language": "python",
   "name": "python3"
  },
  "language_info": {
   "codemirror_mode": {
    "name": "ipython",
    "version": 3
   },
   "file_extension": ".py",
   "mimetype": "text/x-python",
   "name": "python",
   "nbconvert_exporter": "python",
   "pygments_lexer": "ipython3",
   "version": "3.9.5"
  }
 },
 "nbformat": 4,
 "nbformat_minor": 5
}
