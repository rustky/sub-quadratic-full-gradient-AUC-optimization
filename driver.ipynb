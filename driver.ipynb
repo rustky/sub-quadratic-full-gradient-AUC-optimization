{
 "metadata": {
  "language_info": {
   "codemirror_mode": {
    "name": "ipython",
    "version": 3
   },
   "file_extension": ".py",
   "mimetype": "text/x-python",
   "name": "python",
   "nbconvert_exporter": "python",
   "pygments_lexer": "ipython3",
   "version": "3.8.3"
  },
  "orig_nbformat": 4,
  "kernelspec": {
   "name": "python3",
   "display_name": "Python 3.8.3 64-bit ('base': conda)"
  },
  "interpreter": {
   "hash": "f9dd0902b225243344d54cce975d1f1ca949afdf5f5a29700c92d59c36ed0b5e"
  }
 },
 "nbformat": 4,
 "nbformat_minor": 2,
 "cells": [
  {
   "cell_type": "code",
   "execution_count": 1,
   "metadata": {},
   "outputs": [
    {
     "output_type": "stream",
     "name": "stdout",
     "text": [
      "[ 1.05318002 -0.5682616  -1.83827302 -1.08038121 -0.86217034]\n[-1 -1 -1 -1  1]\n"
     ]
    }
   ],
   "source": [
    "import numpy as np\n",
    "size = 100\n",
    "labels = np.random.choice(a= [1,-1],size = size)\n",
    "predictions = np.random.randn(size)\n",
    "print(predictions)\n",
    "print(labels)\n"
   ]
  },
  {
   "cell_type": "code",
   "execution_count": 2,
   "metadata": {},
   "outputs": [
    {
     "output_type": "stream",
     "name": "stdout",
     "text": [
      "Square Loss:10.785232925342918\nSquare Loss: 10.785232925342918\n"
     ]
    }
   ],
   "source": [
    "from all_pairs_square_loss import all_pairs_square_loss\n",
    "from square_loss import square_loss\n",
    "print(\"Square Loss:\" + str(all_pairs_square_loss(predictions,labels,1)))\n",
    "print(\"Square Loss: \" + str(square_loss(predictions,labels,1)))"
   ]
  },
  {
   "cell_type": "code",
   "execution_count": 3,
   "metadata": {},
   "outputs": [
    {
     "output_type": "stream",
     "name": "stdout",
     "text": [
      "All Pairs Hinge: 10.785232925342918\nSquare Hinge Loss: 10.785232925342918\n"
     ]
    }
   ],
   "source": [
    "from all_pairs_squared_hinge_loss import all_pairs_squared_hinge_loss\n",
    "from squared_hinge_loss import squared_hinge_loss\n",
    "print(\"All Pairs Hinge: \" + str(all_pairs_squared_hinge_loss(predictions,labels,1)))\n",
    "print(\"Square Hinge Loss: \" + str(squared_hinge_loss(predictions,labels,1)))"
   ]
  }
 ]
}